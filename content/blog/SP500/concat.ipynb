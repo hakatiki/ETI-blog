{
 "cells": [
  {
   "cell_type": "code",
   "execution_count": 1,
   "metadata": {},
   "outputs": [
    {
     "name": "stdout",
     "output_type": "stream",
     "text": [
      "Code saved to output_file.py\n"
     ]
    }
   ],
   "source": [
    "import json\n",
    "\n",
    "def concat_code_blocks_from_notebook(notebook_path, output_py_path):\n",
    "    # Open and read the notebook JSON file\n",
    "    with open(notebook_path, 'r', encoding='utf-8') as f:\n",
    "        notebook_data = json.load(f)\n",
    "\n",
    "    # Initialize an empty string to store concatenated code\n",
    "    concatenated_code = \"\"\n",
    "\n",
    "    # Loop through the cells of the notebook\n",
    "    for cell in notebook_data['cells']:\n",
    "        # Only process code cells\n",
    "        if cell['cell_type'] == 'code':\n",
    "            # Join the lines of code in the cell and add them to the concatenated code string\n",
    "            concatenated_code += ''.join(cell['source']) + '\\n'\n",
    "    \n",
    "    # Write the concatenated code to a Python file\n",
    "    with open(output_py_path, 'w', encoding='utf-8') as py_file:\n",
    "        py_file.write(concatenated_code)\n",
    "\n",
    "    print(f\"Code saved to {output_py_path}\")\n",
    "\n",
    "# Provide the path to your Jupyter notebook file and the output .py file\n",
    "notebook_path =             'o1.ipynb'\n",
    "output_py_path = 'output_file.py'\n",
    "\n",
    "# Call the function to get the concatenated code and save it as a .py file\n",
    "concat_code_blocks_from_notebook(notebook_path, output_py_path)\n"
   ]
  },
  {
   "cell_type": "code",
   "execution_count": null,
   "metadata": {},
   "outputs": [],
   "source": []
  }
 ],
 "metadata": {
  "kernelspec": {
   "display_name": "Python 3",
   "language": "python",
   "name": "python3"
  },
  "language_info": {
   "codemirror_mode": {
    "name": "ipython",
    "version": 3
   },
   "file_extension": ".py",
   "mimetype": "text/x-python",
   "name": "python",
   "nbconvert_exporter": "python",
   "pygments_lexer": "ipython3",
   "version": "3.12.4"
  }
 },
 "nbformat": 4,
 "nbformat_minor": 2
}

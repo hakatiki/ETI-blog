{
 "cells": [
  {
   "cell_type": "code",
   "execution_count": 1,
   "metadata": {},
   "outputs": [],
   "source": [
    "import pandas as pd\n",
    "import dotenv"
   ]
  },
  {
   "cell_type": "code",
   "execution_count": 2,
   "metadata": {},
   "outputs": [
    {
     "data": {
      "text/plain": [
       "False"
      ]
     },
     "execution_count": 2,
     "metadata": {},
     "output_type": "execute_result"
    }
   ],
   "source": [
    "# load .env file\n",
    "dotenv.load_dotenv()"
   ]
  },
  {
   "cell_type": "code",
   "execution_count": 3,
   "metadata": {},
   "outputs": [
    {
     "name": "stdout",
     "output_type": "stream",
     "text": [
      "ingatlan.com logo\n",
      "CSOK Plusz\n",
      "Hitelintéző\n",
      "Ingatlanoskereső\n",
      "Bejelentkezés/Regisztráció\n",
      "Budapest IX. ke\n"
     ]
    }
   ],
   "source": [
    "with open('data/textfile_large.txt', 'r', encoding='ISO-8859-2') as file:\n",
    "    content = file.read()\n",
    "    print(content[:100])"
   ]
  },
  {
   "cell_type": "code",
   "execution_count": 4,
   "metadata": {},
   "outputs": [],
   "source": [
    "# Splitting the content based on the separator '------------\\n'\n",
    "entries = content.split('------------\\n')\n",
    "\n",
    "# Finding the unique entries\n",
    "unique_entries = list(set(entries))"
   ]
  },
  {
   "cell_type": "code",
   "execution_count": 5,
   "metadata": {},
   "outputs": [
    {
     "name": "stdout",
     "output_type": "stream",
     "text": [
      "ngatlan.com\n",
      "Magánszemély\n",
      "A hirdető nem adott meg telefonszámot.\n",
      "Hirdetés\n",
      "Hirdetés\n",
      "Hirdetés\n",
      "Hasznos tippek, tanácsok ingatlanvásárláshoz\n",
      "Az ingatlanvásárlás menete\n",
      "chevron_right\n",
      "Így zajlik a lakásbérlés\n",
      "chevron_right\n",
      "Otthonteremtési támogatások és feltételeik 2024\n",
      "chevron_right\n",
      "Ingatlanvásárlás hitelből, stresszmentesen online előminősítéssel\n",
      "chevron_right\n",
      "Összes hasznos tipp/tanács\n",
      "\n",
      "Főoldal\n",
      "Budapest XIII. kerület\n",
      "Újlipótváros\n",
      "Eladó lakások - Újlipótváros\n",
      "Magánszemélyeknek\n",
      "Hirdetés feladása\n",
      "Árak és hirdetési lehetőségek\n",
      "Fizetési lehetőségek\n",
      "Hirdetőtábla\n",
      "\n",
      "Ingatlanoskereső\n",
      "Lakáshitel-kalkulátor\n",
      "Energetikai tanúsítvány\n",
      "Alaprajztervező\n",
      "Közvetítőknek\n",
      "Belépés közvetítőknek\n",
      "Árak és hirdetési lehetőségek\n",
      "Fizetési lehetőségek\n",
      "Regisztráció közvetítőknek\n",
      "Kiemelt ajánlat hitelközvetítőknek\n",
      "Ingatlanpiaci adatok\n",
      "Csapatunk\n",
      "Rólunk\n",
      "Kik vagyunk\n",
      "Állások\n",
      "Kapcsolat\n",
      "+36 1 237 2065\n",
      "segitunk@ingatlan.com\n",
      "munkanapokon 10:00-17:00-ig\n",
      "Összes elérhetőségünk\n",
      "Médiaajánlat\n",
      "Sajtókapcsolat\n",
      "United Platforms\n",
      "Az oldal a United Platforms csoport tagja\n",
      "ingatlan.com\n",
      "money.hu\n",
      "hasznaltauto.hu\n",
      "Saleshouse\n",
      "World-class standards with local heart\n",
      "Ismerj meg minket\n",
      "ˇ\n",
      "Dolgozz nálunk\n",
      "Š ingatlan.com - 1999 - 2024 Általános Szerződési feltételek Adatvédelmi Szabályzat DSA Impresszum Sütik kezelése Facebook\n",
      "Magyar English Deutsch\n",
      "\n",
      "\n"
     ]
    }
   ],
   "source": [
    "print(unique_entries[0][-1300:])"
   ]
  },
  {
   "cell_type": "code",
   "execution_count": 6,
   "metadata": {},
   "outputs": [
    {
     "name": "stdout",
     "output_type": "stream",
     "text": [
      "egadva\n",
      "Parkolás\tutca, közterület - fizetős övezet\n",
      "\n"
     ]
    }
   ],
   "source": [
    "print(unique_entries[0].split(\"Hirdetés\\n\")[0][-50:])"
   ]
  },
  {
   "cell_type": "code",
   "execution_count": 7,
   "metadata": {},
   "outputs": [],
   "source": [
    "trimmed_entries = [entry.split(\"Hirdetés\\n\")[0] for entry in unique_entries]"
   ]
  },
  {
   "cell_type": "code",
   "execution_count": 8,
   "metadata": {},
   "outputs": [
    {
     "data": {
      "text/plain": [
       "<Axes: >"
      ]
     },
     "execution_count": 8,
     "metadata": {},
     "output_type": "execute_result"
    },
    {
     "data": {
      "image/png": "[encoded data removed]",
      "text/plain": [
       "<Figure size 640x480 with 1 Axes>"
      ]
     },
     "metadata": {},
     "output_type": "display_data"
    }
   ],
   "source": [
    "# boxplot of the lengths of the entries\n",
    "entry_lengths = [len(entry) for entry in trimmed_entries]\n",
    "pd.Series(entry_lengths).plot(kind='box')"
   ]
  },
  {
   "cell_type": "code",
   "execution_count": 9,
   "metadata": {},
   "outputs": [
    {
     "data": {
      "text/plain": [
       "count    2139.000000\n",
       "mean     1300.047218\n",
       "std       156.245268\n",
       "min         1.000000\n",
       "25%      1248.000000\n",
       "50%      1290.000000\n",
       "75%      1346.500000\n",
       "max      3755.000000\n",
       "dtype: float64"
      ]
     },
     "execution_count": 9,
     "metadata": {},
     "output_type": "execute_result"
    }
   ],
   "source": [
    "# look at the extremes\n",
    "pd.Series(entry_lengths).describe()"
   ]
  },
  {
   "cell_type": "code",
   "execution_count": 10,
   "metadata": {},
   "outputs": [],
   "source": [
    "max_length_index = entry_lengths.index(max(entry_lengths))\n",
    "min_length_index = entry_lengths.index(min(entry_lengths))"
   ]
  },
  {
   "cell_type": "code",
   "execution_count": 11,
   "metadata": {},
   "outputs": [
    {
     "name": "stdout",
     "output_type": "stream",
     "text": [
      "\n",
      "NEW, SUNNY, luxury apartment with a view of the Danube in WATERFRONT CITY residential park FOR SALE!\n",
      "\n",
      "\n",
      "\n",
      "The property was handed over in the spring of 2023. It is a SE-facing, bright, calm, spacious corner apartment with a panoramic top view, from which you can enjoy a beautiful view of the Danube.\n",
      "\n",
      "\n",
      "\n",
      "You just have to arrive here!\n",
      "\n",
      "\n",
      "The parameters of the apartment: the net floor area of the apartment is 90 m2 + 90 m2 terrace, of which 2 m2 is closed storage.\n",
      "\n",
      "Entering the apartment, we arrive in the hall, from which the living room with an American kitchen and the terrace with a wonderful view open up in front of us. It has two bedrooms, one of which has a direct access to a bathroom with a shower. In addition, a bathroom with a bathtub and 2 separate toilets serve the comfort of the apartment.\n",
      "\n",
      "\n",
      "The excellently furnished, L-shaped terrace is directly accessible from the living room, dining room, and both rooms.\n",
      "\n",
      "The apartment includes a 10.62 m2 STORAGE, which is part of the purchase price.\n",
      "\n",
      "2 garage parking spaces of 13.5 m2 (HUF 7 M/pc) are SOLD TOGETHER with the apartment, which also includes an E-car charger.\n",
      "\n",
      "\n",
      "Apartment features:\n",
      "\n",
      "3-layer thermal and sound-insulated plastic windows, and modern, energy-saving (AA+) heat pump ceiling cooling/heating that can be controlled from the phone, thanks to which the apartment's maintenance costs are extremely low.\n",
      "The security of the apartment is guaranteed by the MABISZ-certified security entrance door that locks at several points and an alarm. All windows are equipped with electric shutters and mosquito nets.\n",
      "\n",
      "The apartment is characterized by outstanding aesthetic solutions and technical content in all areas.\n",
      "The comfort of the new owner is enhanced by the fact that the apartment is furnished and equipped, which are part of the purchase price.\n",
      "\n",
      "\n",
      "The apartment is easily accessible by elevator from the stylish and elegant lobby.\n",
      "\n",
      "\n",
      "Waterfront City is in III. district, in the center of Óbuda, next to the Danube bank.\n",
      "The infrastructure and location are excellent, Óbuda's main square, Hajógyár island, kindergartens, schools and shopping centers are all within walking distance.\n",
      "\n",
      "\n",
      "The city center is easily accessible by car and public transport. The HÉV stop is a few minutes' walk away, and it takes only a quarter of an hour to get to Margit Bridge or Batthyány Square, and the international bicycle route to Szentendre also passes by the residential park.\n",
      "For the comfort of the residents, a landscaped promenade was built with benches, laptop/phone charging facilities, free Wi-Fi network, and motion-sensing public lighting.\n",
      "\n",
      "Available services: 0-24 hour security, camera system, Smart parking.\n",
      "\n",
      "\n",
      "\n",
      "Expected developments:\n",
      "\n",
      "Smart city application, E-car charging station, fitness room, self-service laundromat, playground, catering units, Bubi bicycle point, drinking fountain, pedestrian bridge to Hajógyár island.\n",
      "\n",
      "\n",
      "Individual services that can be requested (e.g. shopping, cleaning, repair, rental).\n",
      "\n",
      "\n",
      "The property is also an excellent investment opportunity, highly sought after by tenants.\n",
      "\n",
      "\n",
      "\n",
      "I'm at your disposal in case of further questions, viewing is possible at a pre-arranged time.\n",
      "\n",
      "Real estate agents, please don't call!\n",
      "\n",
      "Térkép\n",
      "Budapest III. kerület, Waterfront City lakópark\n",
      "Térkép\n",
      "Budapest III. kerület, Waterfront City lakópark\n",
      "+\n",
      "-\n",
      "Leaflet | Š OpenStreetMap, CC-BY-SA\n",
      "Hasonló hirdetések átlagárai a környéken\n",
      "Ez az ingatlan\n",
      "1,35 millió Ft/m2\n",
      "Óbuda\n",
      "1,35 millió Ft/m2\n",
      "Budapest III. kerület\n",
      "1,44 millió Ft/m2\n",
      "Az átlagárat a 80-119 m2 közötti, újszerű, új építésű eladó lakások ára alapján számoltuk ki. A lakások m2 árába az alapterületen kívül az erkély 50%-át is beleszámítjuk.\n",
      "info\n",
      "Lépj kapcsolatba a hirdetővel\n",
      "ingatlan.com\n",
      "Magánszemély\n",
      "phone\n",
      "+36 30 224\n",
      "\n"
     ]
    }
   ],
   "source": [
    "print(trimmed_entries[max_length_index])"
   ]
  },
  {
   "cell_type": "code",
   "execution_count": 12,
   "metadata": {},
   "outputs": [
    {
     "name": "stdout",
     "output_type": "stream",
     "text": [
      "\n",
      "\n"
     ]
    }
   ],
   "source": [
    "print(trimmed_entries[min_length_index])"
   ]
  },
  {
   "cell_type": "code",
   "execution_count": 13,
   "metadata": {},
   "outputs": [
    {
     "name": "stdout",
     "output_type": "stream",
     "text": [
      "\n",
      "\n"
     ]
    }
   ],
   "source": [
    "shortest_entries = sorted(trimmed_entries, key=len)[:10]\n",
    "print(shortest_entries[0])"
   ]
  },
  {
   "cell_type": "code",
   "execution_count": 14,
   "metadata": {},
   "outputs": [
    {
     "name": "stdout",
     "output_type": "stream",
     "text": [
      "\n",
      "???????????????????????????,????????????????!\n",
      "\n",
      "??????????,???????,???????????\n",
      "\n",
      "??????????????????????????\n",
      "\n",
      "?????,????? 82 ???,???????? 108 ????\n",
      "\n",
      "????????????,?????????\n",
      "\n",
      "----------------\n"
     ]
    }
   ],
   "source": [
    "print(shortest_entries[1])"
   ]
  },
  {
   "cell_type": "code",
   "execution_count": 15,
   "metadata": {},
   "outputs": [
    {
     "name": "stdout",
     "output_type": "stream",
     "text": [
      "Két referenciánk a kerületből:\n",
      "Jász utca 152. /37 lakás, átadva 2018/\n",
      "Zsinór utca 26-28. /60 lakás, átadva 2021/\n",
      "\n",
      "Jelenleg futó másik beruházásunk:\n",
      "XIV. kerület, Róna utca 129. /RÓNA PARK 65 ingatlan/\n",
      "--------------------------------------\n"
     ]
    }
   ],
   "source": [
    "print(shortest_entries[2])"
   ]
  },
  {
   "cell_type": "code",
   "execution_count": 16,
   "metadata": {},
   "outputs": [
    {
     "name": "stdout",
     "output_type": "stream",
     "text": [
      "\n",
      "ingatlan.com logo\n",
      "CSOK Plusz\n",
      "Hitelintéző\n",
      "Ingatlanoskereső\n",
      "Bejelentkezés/Regisztráció\n",
      "Budapest XVI. kerület, Nefelejcs utca\n",
      "Eladó csúsztatott zsalus\n",
      "+17 fotó\n",
      "Kép az ingatlanról\n",
      "Kép az ingatlanról\n",
      "Kép az ingatlanról\n",
      "Ár\n",
      "46,90 millió Ft\n",
      "Alapterület\n",
      "52 m2\n",
      "Szobák\n",
      "2\n",
      "Azonosító: 34016993\n",
      "Lépj kapcsolatba a hirdetővel\n",
      "phone\n",
      "+36 30 691\n",
      "ingatlan.com\n",
      "Magánszemély\n",
      "share\n",
      "Megosztás\n",
      "\n",
      "print\n",
      "Nyomtatás\n",
      "visibility_off\n",
      "Elrejtés\n",
      "warning\n",
      "Hiba jelzése\n",
      "Eladó csúsztatott zsalus\n",
      "Ingatlan állapota\tfelújított\n",
      "Építés éve\t1950 és 1980 között\n",
      "Komfort\tösszkomfortos\n",
      "Emelet\t4\n",
      "Épület szintjei\t4\n",
      "Lift\tnincs\n",
      "Belmagasság\tnincs megadva\n",
      "Légkondicionáló\tvan\n",
      "Akadálymentesített\tnem\n",
      "Fürdő és wc\tkülön helyiségben\n",
      "Tájolás\tkelet\n",
      "Kilátás\tnincs megadva\n",
      "Erkély mérete\t3 m2\n",
      "Kertkapcsolatos\tnem\n",
      "Parkolás\tutca, közterület - ingyenes\n",
      "\n"
     ]
    }
   ],
   "source": [
    "print(shortest_entries[8])"
   ]
  },
  {
   "cell_type": "code",
   "execution_count": 17,
   "metadata": {},
   "outputs": [],
   "source": [
    "# remove the 7 shortest entries from unique_entries\n",
    "unique_entries = [entry for entry in unique_entries if entry not in shortest_entries[:7]]"
   ]
  },
  {
   "cell_type": "code",
   "execution_count": 18,
   "metadata": {},
   "outputs": [
    {
     "data": {
      "text/plain": [
       "2133"
      ]
     },
     "execution_count": 18,
     "metadata": {},
     "output_type": "execute_result"
    }
   ],
   "source": [
    "len(unique_entries)"
   ]
  },
  {
   "cell_type": "code",
   "execution_count": 19,
   "metadata": {},
   "outputs": [
    {
     "ename": "TypeError",
     "evalue": "ForwardRef._evaluate() missing 1 required keyword-only argument: 'recursive_guard'",
     "output_type": "error",
     "traceback": [
      "\u001b[1;31m---------------------------------------------------------------------------\u001b[0m",
      "\u001b[1;31mTypeError\u001b[0m                                 Traceback (most recent call last)",
      "Cell \u001b[1;32mIn[19], line 3\u001b[0m\n\u001b[0;32m      1\u001b[0m \u001b[38;5;28;01mfrom\u001b[39;00m \u001b[38;5;21;01mlangchain\u001b[39;00m\u001b[38;5;21;01m.\u001b[39;00m\u001b[38;5;21;01mpydantic_v1\u001b[39;00m \u001b[38;5;28;01mimport\u001b[39;00m BaseModel, Field\n\u001b[0;32m      2\u001b[0m \u001b[38;5;28;01mfrom\u001b[39;00m \u001b[38;5;21;01mtyping\u001b[39;00m \u001b[38;5;28;01mimport\u001b[39;00m Optional\n\u001b[1;32m----> 3\u001b[0m \u001b[38;5;28;01mfrom\u001b[39;00m \u001b[38;5;21;01mlangchain\u001b[39;00m\u001b[38;5;21;01m.\u001b[39;00m\u001b[38;5;21;01mchat_models\u001b[39;00m\u001b[38;5;21;01m.\u001b[39;00m\u001b[38;5;21;01mbase\u001b[39;00m \u001b[38;5;28;01mimport\u001b[39;00m init_chat_model\n\u001b[0;32m      5\u001b[0m model \u001b[38;5;241m=\u001b[39m \u001b[38;5;124m\"\u001b[39m\u001b[38;5;124mgpt-4o-2024-08-06\u001b[39m\u001b[38;5;124m\"\u001b[39m\n\u001b[0;32m      6\u001b[0m temperature \u001b[38;5;241m=\u001b[39m \u001b[38;5;241m0.0\u001b[39m\n",
      "File \u001b[1;32mc:\\Users\\takat\\AppData\\Local\\Programs\\Python\\Python312\\Lib\\site-packages\\langchain\\chat_models\\base.py:1\u001b[0m\n\u001b[1;32m----> 1\u001b[0m \u001b[38;5;28;01mfrom\u001b[39;00m \u001b[38;5;21;01mlangchain_core\u001b[39;00m\u001b[38;5;21;01m.\u001b[39;00m\u001b[38;5;21;01mlanguage_models\u001b[39;00m\u001b[38;5;21;01m.\u001b[39;00m\u001b[38;5;21;01mchat_models\u001b[39;00m \u001b[38;5;28;01mimport\u001b[39;00m (\n\u001b[0;32m      2\u001b[0m     BaseChatModel,\n\u001b[0;32m      3\u001b[0m     SimpleChatModel,\n\u001b[0;32m      4\u001b[0m     agenerate_from_stream,\n\u001b[0;32m      5\u001b[0m     generate_from_stream,\n\u001b[0;32m      6\u001b[0m )\n\u001b[0;32m      8\u001b[0m __all__ \u001b[38;5;241m=\u001b[39m [\n\u001b[0;32m      9\u001b[0m     \u001b[38;5;124m\"\u001b[39m\u001b[38;5;124mBaseChatModel\u001b[39m\u001b[38;5;124m\"\u001b[39m,\n\u001b[0;32m     10\u001b[0m     \u001b[38;5;124m\"\u001b[39m\u001b[38;5;124mSimpleChatModel\u001b[39m\u001b[38;5;124m\"\u001b[39m,\n\u001b[0;32m     11\u001b[0m     \u001b[38;5;124m\"\u001b[39m\u001b[38;5;124mgenerate_from_stream\u001b[39m\u001b[38;5;124m\"\u001b[39m,\n\u001b[0;32m     12\u001b[0m     \u001b[38;5;124m\"\u001b[39m\u001b[38;5;124magenerate_from_stream\u001b[39m\u001b[38;5;124m\"\u001b[39m,\n\u001b[0;32m     13\u001b[0m ]\n",
      "File \u001b[1;32mc:\\Users\\takat\\AppData\\Local\\Programs\\Python\\Python312\\Lib\\site-packages\\langchain_core\\language_models\\__init__.py:25\u001b[0m\n\u001b[0;32m      1\u001b[0m \u001b[38;5;124;03m\"\"\"**Language Model** is a type of model that can generate text or complete\u001b[39;00m\n\u001b[0;32m      2\u001b[0m \u001b[38;5;124;03mtext prompts. \u001b[39;00m\n\u001b[0;32m      3\u001b[0m \n\u001b[1;32m   (...)\u001b[0m\n\u001b[0;32m     22\u001b[0m \u001b[38;5;124;03m    AIMessage, BaseMessage, HumanMessage\u001b[39;00m\n\u001b[0;32m     23\u001b[0m \u001b[38;5;124;03m\"\"\"\u001b[39;00m  \u001b[38;5;66;03m# noqa: E501\u001b[39;00m\n\u001b[1;32m---> 25\u001b[0m \u001b[38;5;28;01mfrom\u001b[39;00m \u001b[38;5;21;01mlangchain_core\u001b[39;00m\u001b[38;5;21;01m.\u001b[39;00m\u001b[38;5;21;01mlanguage_models\u001b[39;00m\u001b[38;5;21;01m.\u001b[39;00m\u001b[38;5;21;01mbase\u001b[39;00m \u001b[38;5;28;01mimport\u001b[39;00m (\n\u001b[0;32m     26\u001b[0m     BaseLanguageModel,\n\u001b[0;32m     27\u001b[0m     LanguageModelInput,\n\u001b[0;32m     28\u001b[0m     LanguageModelLike,\n\u001b[0;32m     29\u001b[0m     LanguageModelOutput,\n\u001b[0;32m     30\u001b[0m     get_tokenizer,\n\u001b[0;32m     31\u001b[0m )\n\u001b[0;32m     32\u001b[0m \u001b[38;5;28;01mfrom\u001b[39;00m \u001b[38;5;21;01mlangchain_core\u001b[39;00m\u001b[38;5;21;01m.\u001b[39;00m\u001b[38;5;21;01mlanguage_models\u001b[39;00m\u001b[38;5;21;01m.\u001b[39;00m\u001b[38;5;21;01mchat_models\u001b[39;00m \u001b[38;5;28;01mimport\u001b[39;00m BaseChatModel, SimpleChatModel\n\u001b[0;32m     33\u001b[0m \u001b[38;5;28;01mfrom\u001b[39;00m \u001b[38;5;21;01mlangchain_core\u001b[39;00m\u001b[38;5;21;01m.\u001b[39;00m\u001b[38;5;21;01mlanguage_models\u001b[39;00m\u001b[38;5;21;01m.\u001b[39;00m\u001b[38;5;21;01mfake\u001b[39;00m \u001b[38;5;28;01mimport\u001b[39;00m FakeListLLM, FakeStreamingListLLM\n",
      "File \u001b[1;32mc:\\Users\\takat\\AppData\\Local\\Programs\\Python\\Python312\\Lib\\site-packages\\langchain_core\\language_models\\base.py:74\u001b[0m\n\u001b[0;32m     69\u001b[0m     \u001b[38;5;28;01mfrom\u001b[39;00m \u001b[38;5;21;01mlangchain_core\u001b[39;00m\u001b[38;5;21;01m.\u001b[39;00m\u001b[38;5;21;01mglobals\u001b[39;00m \u001b[38;5;28;01mimport\u001b[39;00m get_verbose\n\u001b[0;32m     71\u001b[0m     \u001b[38;5;28;01mreturn\u001b[39;00m get_verbose()\n\u001b[1;32m---> 74\u001b[0m \u001b[38;5;28;43;01mclass\u001b[39;49;00m\u001b[43m \u001b[49m\u001b[38;5;21;43;01mBaseLanguageModel\u001b[39;49;00m\u001b[43m(\u001b[49m\n\u001b[0;32m     75\u001b[0m \u001b[43m    \u001b[49m\u001b[43mRunnableSerializable\u001b[49m\u001b[43m[\u001b[49m\u001b[43mLanguageModelInput\u001b[49m\u001b[43m,\u001b[49m\u001b[43m \u001b[49m\u001b[43mLanguageModelOutputVar\u001b[49m\u001b[43m]\u001b[49m\u001b[43m,\u001b[49m\u001b[43m \u001b[49m\u001b[43mABC\u001b[49m\n\u001b[0;32m     76\u001b[0m \u001b[43m)\u001b[49m\u001b[43m:\u001b[49m\n\u001b[0;32m     77\u001b[0m \u001b[38;5;250;43m    \u001b[39;49m\u001b[38;5;124;43;03m\"\"\"Abstract base class for interfacing with language models.\u001b[39;49;00m\n\u001b[0;32m     78\u001b[0m \n\u001b[0;32m     79\u001b[0m \u001b[38;5;124;43;03m    All language model wrappers inherit from BaseLanguageModel.\u001b[39;49;00m\n\u001b[0;32m     80\u001b[0m \u001b[38;5;124;43;03m    \"\"\"\u001b[39;49;00m\n\u001b[0;32m     82\u001b[0m \u001b[43m    \u001b[49m\u001b[43mcache\u001b[49m\u001b[43m:\u001b[49m\u001b[43m \u001b[49m\u001b[43mUnion\u001b[49m\u001b[43m[\u001b[49m\u001b[43mBaseCache\u001b[49m\u001b[43m,\u001b[49m\u001b[43m \u001b[49m\u001b[38;5;28;43mbool\u001b[39;49m\u001b[43m,\u001b[49m\u001b[43m \u001b[49m\u001b[38;5;28;43;01mNone\u001b[39;49;00m\u001b[43m]\u001b[49m\u001b[43m \u001b[49m\u001b[38;5;241;43m=\u001b[39;49m\u001b[43m \u001b[49m\u001b[38;5;28;43;01mNone\u001b[39;49;00m\n",
      "File \u001b[1;32mc:\\Users\\takat\\AppData\\Local\\Programs\\Python\\Python312\\Lib\\site-packages\\pydantic\\v1\\main.py:286\u001b[0m, in \u001b[0;36mModelMetaclass.__new__\u001b[1;34m(mcs, name, bases, namespace, **kwargs)\u001b[0m\n\u001b[0;32m    284\u001b[0m \u001b[38;5;28mcls\u001b[39m\u001b[38;5;241m.\u001b[39m__signature__ \u001b[38;5;241m=\u001b[39m ClassAttribute(\u001b[38;5;124m'\u001b[39m\u001b[38;5;124m__signature__\u001b[39m\u001b[38;5;124m'\u001b[39m, generate_model_signature(\u001b[38;5;28mcls\u001b[39m\u001b[38;5;241m.\u001b[39m\u001b[38;5;21m__init__\u001b[39m, fields, config))\n\u001b[0;32m    285\u001b[0m \u001b[38;5;28;01mif\u001b[39;00m resolve_forward_refs:\n\u001b[1;32m--> 286\u001b[0m     \u001b[38;5;28;43mcls\u001b[39;49m\u001b[38;5;241;43m.\u001b[39;49m\u001b[43m__try_update_forward_refs__\u001b[49m\u001b[43m(\u001b[49m\u001b[43m)\u001b[49m\n\u001b[0;32m    288\u001b[0m \u001b[38;5;66;03m# preserve `__set_name__` protocol defined in https://peps.python.org/pep-0487\u001b[39;00m\n\u001b[0;32m    289\u001b[0m \u001b[38;5;66;03m# for attributes not in `new_namespace` (e.g. private attributes)\u001b[39;00m\n\u001b[0;32m    290\u001b[0m \u001b[38;5;28;01mfor\u001b[39;00m name, obj \u001b[38;5;129;01min\u001b[39;00m namespace\u001b[38;5;241m.\u001b[39mitems():\n",
      "File \u001b[1;32mc:\\Users\\takat\\AppData\\Local\\Programs\\Python\\Python312\\Lib\\site-packages\\pydantic\\v1\\main.py:807\u001b[0m, in \u001b[0;36mBaseModel.__try_update_forward_refs__\u001b[1;34m(cls, **localns)\u001b[0m\n\u001b[0;32m    801\u001b[0m \u001b[38;5;129m@classmethod\u001b[39m\n\u001b[0;32m    802\u001b[0m \u001b[38;5;28;01mdef\u001b[39;00m \u001b[38;5;21m__try_update_forward_refs__\u001b[39m(\u001b[38;5;28mcls\u001b[39m, \u001b[38;5;241m*\u001b[39m\u001b[38;5;241m*\u001b[39mlocalns: Any) \u001b[38;5;241m-\u001b[39m\u001b[38;5;241m>\u001b[39m \u001b[38;5;28;01mNone\u001b[39;00m:\n\u001b[0;32m    803\u001b[0m \u001b[38;5;250m    \u001b[39m\u001b[38;5;124;03m\"\"\"\u001b[39;00m\n\u001b[0;32m    804\u001b[0m \u001b[38;5;124;03m    Same as update_forward_refs but will not raise exception\u001b[39;00m\n\u001b[0;32m    805\u001b[0m \u001b[38;5;124;03m    when forward references are not defined.\u001b[39;00m\n\u001b[0;32m    806\u001b[0m \u001b[38;5;124;03m    \"\"\"\u001b[39;00m\n\u001b[1;32m--> 807\u001b[0m     \u001b[43mupdate_model_forward_refs\u001b[49m\u001b[43m(\u001b[49m\u001b[38;5;28;43mcls\u001b[39;49m\u001b[43m,\u001b[49m\u001b[43m \u001b[49m\u001b[38;5;28;43mcls\u001b[39;49m\u001b[38;5;241;43m.\u001b[39;49m\u001b[43m__fields__\u001b[49m\u001b[38;5;241;43m.\u001b[39;49m\u001b[43mvalues\u001b[49m\u001b[43m(\u001b[49m\u001b[43m)\u001b[49m\u001b[43m,\u001b[49m\u001b[43m \u001b[49m\u001b[38;5;28;43mcls\u001b[39;49m\u001b[38;5;241;43m.\u001b[39;49m\u001b[43m__config__\u001b[49m\u001b[38;5;241;43m.\u001b[39;49m\u001b[43mjson_encoders\u001b[49m\u001b[43m,\u001b[49m\u001b[43m \u001b[49m\u001b[43mlocalns\u001b[49m\u001b[43m,\u001b[49m\u001b[43m \u001b[49m\u001b[43m(\u001b[49m\u001b[38;5;167;43;01mNameError\u001b[39;49;00m\u001b[43m,\u001b[49m\u001b[43m)\u001b[49m\u001b[43m)\u001b[49m\n",
      "File \u001b[1;32mc:\\Users\\takat\\AppData\\Local\\Programs\\Python\\Python312\\Lib\\site-packages\\pydantic\\v1\\typing.py:554\u001b[0m, in \u001b[0;36mupdate_model_forward_refs\u001b[1;34m(model, fields, json_encoders, localns, exc_to_suppress)\u001b[0m\n\u001b[0;32m    552\u001b[0m \u001b[38;5;28;01mfor\u001b[39;00m f \u001b[38;5;129;01min\u001b[39;00m fields:\n\u001b[0;32m    553\u001b[0m     \u001b[38;5;28;01mtry\u001b[39;00m:\n\u001b[1;32m--> 554\u001b[0m         \u001b[43mupdate_field_forward_refs\u001b[49m\u001b[43m(\u001b[49m\u001b[43mf\u001b[49m\u001b[43m,\u001b[49m\u001b[43m \u001b[49m\u001b[43mglobalns\u001b[49m\u001b[38;5;241;43m=\u001b[39;49m\u001b[43mglobalns\u001b[49m\u001b[43m,\u001b[49m\u001b[43m \u001b[49m\u001b[43mlocalns\u001b[49m\u001b[38;5;241;43m=\u001b[39;49m\u001b[43mlocalns\u001b[49m\u001b[43m)\u001b[49m\n\u001b[0;32m    555\u001b[0m     \u001b[38;5;28;01mexcept\u001b[39;00m exc_to_suppress:\n\u001b[0;32m    556\u001b[0m         \u001b[38;5;28;01mpass\u001b[39;00m\n",
      "File \u001b[1;32mc:\\Users\\takat\\AppData\\Local\\Programs\\Python\\Python312\\Lib\\site-packages\\pydantic\\v1\\typing.py:520\u001b[0m, in \u001b[0;36mupdate_field_forward_refs\u001b[1;34m(field, globalns, localns)\u001b[0m\n\u001b[0;32m    518\u001b[0m \u001b[38;5;28;01mif\u001b[39;00m field\u001b[38;5;241m.\u001b[39mtype_\u001b[38;5;241m.\u001b[39m\u001b[38;5;18m__class__\u001b[39m \u001b[38;5;241m==\u001b[39m ForwardRef:\n\u001b[0;32m    519\u001b[0m     prepare \u001b[38;5;241m=\u001b[39m \u001b[38;5;28;01mTrue\u001b[39;00m\n\u001b[1;32m--> 520\u001b[0m     field\u001b[38;5;241m.\u001b[39mtype_ \u001b[38;5;241m=\u001b[39m \u001b[43mevaluate_forwardref\u001b[49m\u001b[43m(\u001b[49m\u001b[43mfield\u001b[49m\u001b[38;5;241;43m.\u001b[39;49m\u001b[43mtype_\u001b[49m\u001b[43m,\u001b[49m\u001b[43m \u001b[49m\u001b[43mglobalns\u001b[49m\u001b[43m,\u001b[49m\u001b[43m \u001b[49m\u001b[43mlocalns\u001b[49m\u001b[43m \u001b[49m\u001b[38;5;129;43;01mor\u001b[39;49;00m\u001b[43m \u001b[49m\u001b[38;5;28;43;01mNone\u001b[39;49;00m\u001b[43m)\u001b[49m\n\u001b[0;32m    521\u001b[0m \u001b[38;5;28;01mif\u001b[39;00m field\u001b[38;5;241m.\u001b[39mouter_type_\u001b[38;5;241m.\u001b[39m\u001b[38;5;18m__class__\u001b[39m \u001b[38;5;241m==\u001b[39m ForwardRef:\n\u001b[0;32m    522\u001b[0m     prepare \u001b[38;5;241m=\u001b[39m \u001b[38;5;28;01mTrue\u001b[39;00m\n",
      "File \u001b[1;32mc:\\Users\\takat\\AppData\\Local\\Programs\\Python\\Python312\\Lib\\site-packages\\pydantic\\v1\\typing.py:66\u001b[0m, in \u001b[0;36mevaluate_forwardref\u001b[1;34m(type_, globalns, localns)\u001b[0m\n\u001b[0;32m     63\u001b[0m \u001b[38;5;28;01mdef\u001b[39;00m \u001b[38;5;21mevaluate_forwardref\u001b[39m(type_: ForwardRef, globalns: Any, localns: Any) \u001b[38;5;241m-\u001b[39m\u001b[38;5;241m>\u001b[39m Any:\n\u001b[0;32m     64\u001b[0m     \u001b[38;5;66;03m# Even though it is the right signature for python 3.9, mypy complains with\u001b[39;00m\n\u001b[0;32m     65\u001b[0m     \u001b[38;5;66;03m# `error: Too many arguments for \"_evaluate\" of \"ForwardRef\"` hence the cast...\u001b[39;00m\n\u001b[1;32m---> 66\u001b[0m     \u001b[38;5;28;01mreturn\u001b[39;00m \u001b[43mcast\u001b[49m\u001b[43m(\u001b[49m\u001b[43mAny\u001b[49m\u001b[43m,\u001b[49m\u001b[43m \u001b[49m\u001b[43mtype_\u001b[49m\u001b[43m)\u001b[49m\u001b[38;5;241;43m.\u001b[39;49m\u001b[43m_evaluate\u001b[49m\u001b[43m(\u001b[49m\u001b[43mglobalns\u001b[49m\u001b[43m,\u001b[49m\u001b[43m \u001b[49m\u001b[43mlocalns\u001b[49m\u001b[43m,\u001b[49m\u001b[43m \u001b[49m\u001b[38;5;28;43mset\u001b[39;49m\u001b[43m(\u001b[49m\u001b[43m)\u001b[49m\u001b[43m)\u001b[49m\n",
      "\u001b[1;31mTypeError\u001b[0m: ForwardRef._evaluate() missing 1 required keyword-only argument: 'recursive_guard'"
     ]
    }
   ],
   "source": [
    "\n",
    "from langchain.pydantic_v1 import BaseModel, Field\n",
    "from typing import Optional\n",
    "from langchain.chat_models.base import init_chat_model\n",
    "\n",
    "model = \"gpt-4o-2024-08-06\"\n",
    "temperature = 0.0\n",
    "\n",
    "chat_model = init_chat_model(model=model, temperature=temperature)\n"
   ]
  },
  {
   "cell_type": "code",
   "execution_count": 63,
   "metadata": {},
   "outputs": [
    {
     "data": {
      "text/plain": [
       "AIMessage(content=\"Hello! I'm just a computer program, so I don't have feelings, but I'm here and ready to help you. How can I assist you today?\", additional_kwargs={'refusal': None}, response_metadata={'token_usage': {'completion_tokens': 30, 'prompt_tokens': 13, 'total_tokens': 43}, 'model_name': 'gpt-4o-2024-08-06', 'system_fingerprint': 'fp_143bb8492c', 'finish_reason': 'stop', 'logprobs': None}, id='run-ac0a9170-e131-4251-8ec7-bbe16200836d-0', usage_metadata={'input_tokens': 13, 'output_tokens': 30, 'total_tokens': 43})"
      ]
     },
     "execution_count": 63,
     "metadata": {},
     "output_type": "execute_result"
    }
   ],
   "source": [
    "chat_model.invoke(\"Hello, how are you?\")"
   ]
  },
  {
   "cell_type": "code",
   "execution_count": 64,
   "metadata": {},
   "outputs": [],
   "source": [
    "class ApartmentListing(BaseModel):\n",
    "    \"\"\"Model representing an apartment listing with various details.\"\"\"\n",
    "\n",
    "    location: str = Field(description=\"The specific address or area where the property is located.\")\n",
    "    property_type: Optional[str] = Field(description=\"The type of property being listed, e.g., 'Eladó tégla lakás'.\")\n",
    "    price: float = Field(description=\"The selling price of the property in Hungarian Forints (Ft).\")\n",
    "    area: float = Field(description=\"The total area of the apartment in square meters (m²).\")\n",
    "    rooms: Optional[int] = Field(description=\"The number of rooms in the apartment.\")\n",
    "    condition: Optional[str] = Field(description=\"The condition of the property, e.g., 'új építésű' (newly built).\")\n",
    "    year_of_construction: Optional[int] = Field(description=\"The year when the building was or will be completed.\")\n",
    "    comfort: Optional[str] = Field(description=\"Indicates the comfort level of the apartment, e.g., 'összkomfortos' (fully equipped).\")\n",
    "    floor: Optional[int] = Field(description=\"The floor level where the apartment is located.\")\n",
    "    building_levels: Optional[int] = Field(description=\"The total number of floors in the building.\")\n",
    "    description: Optional[str] = Field(description=\"A 2 sentence summary of the hungarian description of the property.\")\n",
    "    elevator: Optional[bool] = Field(description=\"Indicates whether the building has an elevator.\")\n",
    "    ceiling_height: Optional[str] = Field(description=\"The ceiling height of the apartment (if provided)\")\n",
    "    air_conditioning: Optional[bool] = Field(description=\"Indicates whether the apartment is equipped with air conditioning.\")\n",
    "    accessible: Optional[bool] = Field(description=\"Indicates whether the apartment is accessible to people with disabilities.\")\n",
    "    balcony_size: Optional[float] = Field(description=\"The size of the balcony, if present, in square meters (m²).\")\n",
    "    parking: Optional[str] = Field(description=\"Information about parking availability.\")\n",
    "    parking_price: Optional[str] = Field(description=\"The price of the parking space in Hungarian Forints (Ft).\")\n",
    "    energy_certificate: Optional[str] = Field(description=\"Information about the energy efficiency certificate (if provided).\")\n",
    "    avg_gas_consumption: Optional[str] = Field(description=\"The average gas consumption of the apartment (if provided).\")\n",
    "    avg_electricity_consumption: Optional[str] = Field(description=\"The average electricity consumption of the apartment (if provided) in kWh/month.\")\n",
    "    maintenance_costs: Optional[float] = Field(description=\"Information about the maintenance costs of the apartment (if provided) Hungarian Forints (Ft) per month.\")\n",
    "    maintenance_cost_details: Optional[str] = Field(description=\"Detailed information about the maintenance costs.\")\n",
    "    common_costs: Optional[str] = Field(description=\"The common costs associated with the apartment (if provided) Hungarian Forints (Ft) per month.\")\n",
    "    common_cost_details: Optional[str] = Field(description=\"Detailed information about the common costs.\")\n",
    "    heating: Optional[str] = Field(description=\"The type of heating system used in the apartment (if provided).\")\n",
    "    insulation: Optional[str] = Field(description=\"Information about the insulation of the building (if provided).\")\n",
    "    project_name: Optional[str] = Field(description=\"The name of the development project, if applicable.\")\n",
    "    project_completion_date: Optional[str] = Field(description=\"The estimated date when the project will be completed.\")\n",
    "    number_of_apartments: Optional[int] = Field(description=\"The total number of apartments in the project.\")\n",
    "    price_range: Optional[str] = Field(description=\"The range of prices for apartments in the development project.\")\n",
    "    price_range_bottom: Optional[float] = Field(description=\"The lower limit of the price range for apartments in the project.\")\n",
    "    price_range_top: Optional[float] = Field(description=\"The upper limit of the price range for apartments in the project.\")\n",
    "    area_range: Optional[str] = Field(description=\"The range of apartment sizes available in the project.\")\n",
    "    area_range_bottom: Optional[float] = Field(description=\"The lower limit of the apartment size range in square meters (m²).\")\n",
    "    area_range_top: Optional[float] = Field(description=\"The upper limit of the apartment size range in square meters (m²).\")\n",
    "    developer: Optional[str] = Field(description=\"The name of the company or group responsible for the development.\")\n",
    "    nearby_universities: Optional[str] = Field(description=\"The universities located near the property.\")\n",
    "    nearby_schools: Optional[str] = Field(description=\"The schools located near the property.\")\n",
    "    public_transport_nearby: Optional[str] = Field(description=\"Information about public transportation options near the property.\")\n",
    "    historical_note: Optional[str] = Field(description=\"Historical background or notes related to the location or building.\")\n"
   ]
  },
  {
   "cell_type": "code",
   "execution_count": 65,
   "metadata": {},
   "outputs": [],
   "source": [
    "system = \"\"\"\n",
    "    You are an expert in real estate and your task is to extract relevant listing information from the text you are given. The text is an export of a webpage containing one apartment listing. It is highly unstructured and contains various details about the property. Your goal is to create a structured representation of the listing by filling in the missing information in the provided model. In case of a textual field, give the data in Hungarian. If the information is not present or unclear, you can leave the field empty. Here is the text:\n",
    "\n",
    "    {listing_text}\n",
    "\"\"\""
   ]
  },
  {
   "cell_type": "code",
   "execution_count": 66,
   "metadata": {},
   "outputs": [],
   "source": [
    "from langchain_core.prompts import ChatPromptTemplate\n",
    "\n",
    "prompt = ChatPromptTemplate.from_messages(\n",
    "        [\n",
    "            (\"system\", system),\n",
    "            (\"human\", \"Return the structured representation of the apartment listing.\"),\n",
    "        ]\n",
    "    )"
   ]
  },
  {
   "cell_type": "code",
   "execution_count": 67,
   "metadata": {},
   "outputs": [],
   "source": [
    "    model_with_structured_output = chat_model.with_structured_output(ApartmentListing)\n",
    "    listing_extractor = prompt | model_with_structured_output\n"
   ]
  },
  {
   "cell_type": "code",
   "execution_count": 68,
   "metadata": {},
   "outputs": [
    {
     "name": "stdout",
     "output_type": "stream",
     "text": [
      "{\n",
      "    \"location\": \"Budapest XIX. kerület, Báthory utca\",\n",
      "    \"property_type\": \"Eladó tégla lakás\",\n",
      "    \"price\": 79600000.0,\n",
      "    \"area\": 73.0,\n",
      "    \"rooms\": 3,\n",
      "    \"condition\": \"újszerű\",\n",
      "    \"year_of_construction\": 2019,\n",
      "    \"comfort\": \"duplakomfortos\",\n",
      "    \"floor\": 0,\n",
      "    \"building_levels\": 2,\n",
      "    \"description\": \"Eladó Kispest kertvárosában csendes utcában található sorház, középső ÉK tájolású két szintes 2019-ben épült, kertkapcsolatos lakása. A zárt, közös udvarban a lakáshoz tartozik két autó kizárólagos parkolóhely, egy 7 m2 saját tároló és az előkert.\",\n",
      "    \"elevator\": false,\n",
      "    \"ceiling_height\": \"3 m-nél alacsonyabb\",\n",
      "    \"air_conditioning\": true,\n",
      "    \"accessible\": false,\n",
      "    \"balcony_size\": 14.0,\n",
      "    \"parking\": \"udvari beálló - benne van az árban\",\n",
      "    \"parking_price\": null,\n",
      "    \"energy_certificate\": \"E\",\n",
      "    \"avg_gas_consumption\": \"60 m3/hó\",\n",
      "    \"avg_electricity_consumption\": \"130 kWh/hó\",\n",
      "    \"maintenance_costs\": 20000.0,\n",
      "    \"maintenance_cost_details\": null,\n",
      "    \"common_costs\": \"18 000 Ft/hó\",\n",
      "    \"common_cost_details\": null,\n",
      "    \"heating\": \"gázkazán\",\n",
      "    \"insulation\": \"van - 12 cm\",\n",
      "    \"project_name\": null,\n",
      "    \"project_completion_date\": null,\n",
      "    \"number_of_apartments\": null,\n",
      "    \"price_range\": null,\n",
      "    \"price_range_bottom\": null,\n",
      "    \"price_range_top\": null,\n",
      "    \"area_range\": null,\n",
      "    \"area_range_bottom\": null,\n",
      "    \"area_range_top\": null,\n",
      "    \"developer\": null,\n",
      "    \"nearby_universities\": null,\n",
      "    \"nearby_schools\": null,\n",
      "    \"public_transport_nearby\": \"42-es villamos, M3-as metró\",\n",
      "    \"historical_note\": null\n",
      "}\n"
     ]
    }
   ],
   "source": [
    "import json\n",
    "listing = listing_extractor.invoke({\"listing_text\": unique_entries[0]})\n",
    "\n",
    "# pretty print\n",
    "print(json.dumps(listing.dict(), indent=4, ensure_ascii=False))"
   ]
  },
  {
   "cell_type": "code",
   "execution_count": 77,
   "metadata": {},
   "outputs": [
    {
     "name": "stderr",
     "output_type": "stream",
     "text": [
      "  0%|          | 0/21 [00:00<?, ?it/s]"
     ]
    },
    {
     "name": "stdout",
     "output_type": "stream",
     "text": [
      "Rate limit reached. Retrying in 2 seconds...\n"
     ]
    },
    {
     "name": "stderr",
     "output_type": "stream",
     "text": [
      "  5%|▍         | 1/21 [01:40<33:34, 100.72s/it]"
     ]
    },
    {
     "name": "stdout",
     "output_type": "stream",
     "text": [
      "Rate limit reached. Retrying in 2 seconds...\n"
     ]
    },
    {
     "name": "stderr",
     "output_type": "stream",
     "text": [
      " 10%|▉         | 2/21 [03:20<31:46, 100.32s/it]"
     ]
    },
    {
     "name": "stdout",
     "output_type": "stream",
     "text": [
      "Rate limit reached. Retrying in 2 seconds...\n"
     ]
    },
    {
     "name": "stderr",
     "output_type": "stream",
     "text": [
      " 14%|█▍        | 3/21 [05:08<31:06, 103.72s/it]"
     ]
    },
    {
     "name": "stdout",
     "output_type": "stream",
     "text": [
      "Rate limit reached. Retrying in 2 seconds...\n"
     ]
    },
    {
     "name": "stderr",
     "output_type": "stream",
     "text": [
      " 19%|█▉        | 4/21 [06:35<27:32, 97.22s/it] "
     ]
    },
    {
     "name": "stdout",
     "output_type": "stream",
     "text": [
      "Rate limit reached. Retrying in 2 seconds...\n"
     ]
    },
    {
     "name": "stderr",
     "output_type": "stream",
     "text": [
      " 24%|██▍       | 5/21 [08:12<25:51, 97.00s/it]"
     ]
    },
    {
     "name": "stdout",
     "output_type": "stream",
     "text": [
      "Rate limit reached. Retrying in 2 seconds...\n"
     ]
    },
    {
     "name": "stderr",
     "output_type": "stream",
     "text": [
      " 29%|██▊       | 6/21 [09:52<24:29, 97.97s/it]"
     ]
    },
    {
     "name": "stdout",
     "output_type": "stream",
     "text": [
      "Rate limit reached. Retrying in 2 seconds...\n"
     ]
    },
    {
     "name": "stderr",
     "output_type": "stream",
     "text": [
      " 33%|███▎      | 7/21 [11:27<22:38, 97.07s/it]"
     ]
    },
    {
     "name": "stdout",
     "output_type": "stream",
     "text": [
      "Rate limit reached. Retrying in 2 seconds...\n"
     ]
    },
    {
     "name": "stderr",
     "output_type": "stream",
     "text": [
      " 38%|███▊      | 8/21 [13:11<21:29, 99.16s/it]"
     ]
    },
    {
     "name": "stdout",
     "output_type": "stream",
     "text": [
      "Rate limit reached. Retrying in 2 seconds...\n"
     ]
    },
    {
     "name": "stderr",
     "output_type": "stream",
     "text": [
      " 43%|████▎     | 9/21 [21:18<44:07, 220.59s/it]"
     ]
    },
    {
     "name": "stdout",
     "output_type": "stream",
     "text": [
      "Rate limit reached. Retrying in 2 seconds...\n"
     ]
    },
    {
     "name": "stderr",
     "output_type": "stream",
     "text": [
      " 48%|████▊     | 10/21 [37:21<41:05, 224.11s/it]\n"
     ]
    },
    {
     "ename": "KeyboardInterrupt",
     "evalue": "",
     "output_type": "error",
     "traceback": [
      "\u001b[0;31m---------------------------------------------------------------------------\u001b[0m",
      "\u001b[0;31mKeyboardInterrupt\u001b[0m                         Traceback (most recent call last)",
      "Cell \u001b[0;32mIn[77], line 30\u001b[0m\n\u001b[1;32m     27\u001b[0m \u001b[38;5;28;01mfor\u001b[39;00m entry_batch \u001b[38;5;129;01min\u001b[39;00m tqdm\u001b[38;5;241m.\u001b[39mtqdm(chunked(unique_entries, batch_size), total\u001b[38;5;241m=\u001b[39m\u001b[38;5;28mlen\u001b[39m(unique_entries)\u001b[38;5;241m/\u001b[39m\u001b[38;5;241m/\u001b[39mbatch_size):\n\u001b[1;32m     28\u001b[0m     \u001b[38;5;28;01mtry\u001b[39;00m:\n\u001b[1;32m     29\u001b[0m         \u001b[38;5;66;03m# Process each batch with retry logic\u001b[39;00m\n\u001b[0;32m---> 30\u001b[0m         results \u001b[38;5;241m=\u001b[39m \u001b[43mprocess_batch\u001b[49m\u001b[43m(\u001b[49m\u001b[43mentry_batch\u001b[49m\u001b[43m)\u001b[49m\n\u001b[1;32m     31\u001b[0m         apartments\u001b[38;5;241m.\u001b[39mextend(results)\n\u001b[1;32m     32\u001b[0m     \u001b[38;5;28;01mexcept\u001b[39;00m openai\u001b[38;5;241m.\u001b[39mRateLimitError \u001b[38;5;28;01mas\u001b[39;00m e:\n\u001b[1;32m     33\u001b[0m         \u001b[38;5;66;03m# Log the error and wait for the recommended time\u001b[39;00m\n",
      "File \u001b[0;32m~/personal-projects/esti-blog/.venv/lib/python3.11/site-packages/tenacity/__init__.py:336\u001b[0m, in \u001b[0;36mBaseRetrying.wraps.<locals>.wrapped_f\u001b[0;34m(*args, **kw)\u001b[0m\n\u001b[1;32m    334\u001b[0m copy \u001b[38;5;241m=\u001b[39m \u001b[38;5;28mself\u001b[39m\u001b[38;5;241m.\u001b[39mcopy()\n\u001b[1;32m    335\u001b[0m wrapped_f\u001b[38;5;241m.\u001b[39mstatistics \u001b[38;5;241m=\u001b[39m copy\u001b[38;5;241m.\u001b[39mstatistics  \u001b[38;5;66;03m# type: ignore[attr-defined]\u001b[39;00m\n\u001b[0;32m--> 336\u001b[0m \u001b[38;5;28;01mreturn\u001b[39;00m \u001b[43mcopy\u001b[49m\u001b[43m(\u001b[49m\u001b[43mf\u001b[49m\u001b[43m,\u001b[49m\u001b[43m \u001b[49m\u001b[38;5;241;43m*\u001b[39;49m\u001b[43margs\u001b[49m\u001b[43m,\u001b[49m\u001b[43m \u001b[49m\u001b[38;5;241;43m*\u001b[39;49m\u001b[38;5;241;43m*\u001b[39;49m\u001b[43mkw\u001b[49m\u001b[43m)\u001b[49m\n",
      "File \u001b[0;32m~/personal-projects/esti-blog/.venv/lib/python3.11/site-packages/tenacity/__init__.py:475\u001b[0m, in \u001b[0;36mRetrying.__call__\u001b[0;34m(self, fn, *args, **kwargs)\u001b[0m\n\u001b[1;32m    473\u001b[0m retry_state \u001b[38;5;241m=\u001b[39m RetryCallState(retry_object\u001b[38;5;241m=\u001b[39m\u001b[38;5;28mself\u001b[39m, fn\u001b[38;5;241m=\u001b[39mfn, args\u001b[38;5;241m=\u001b[39margs, kwargs\u001b[38;5;241m=\u001b[39mkwargs)\n\u001b[1;32m    474\u001b[0m \u001b[38;5;28;01mwhile\u001b[39;00m \u001b[38;5;28;01mTrue\u001b[39;00m:\n\u001b[0;32m--> 475\u001b[0m     do \u001b[38;5;241m=\u001b[39m \u001b[38;5;28;43mself\u001b[39;49m\u001b[38;5;241;43m.\u001b[39;49m\u001b[43miter\u001b[49m\u001b[43m(\u001b[49m\u001b[43mretry_state\u001b[49m\u001b[38;5;241;43m=\u001b[39;49m\u001b[43mretry_state\u001b[49m\u001b[43m)\u001b[49m\n\u001b[1;32m    476\u001b[0m     \u001b[38;5;28;01mif\u001b[39;00m \u001b[38;5;28misinstance\u001b[39m(do, DoAttempt):\n\u001b[1;32m    477\u001b[0m         \u001b[38;5;28;01mtry\u001b[39;00m:\n",
      "File \u001b[0;32m~/personal-projects/esti-blog/.venv/lib/python3.11/site-packages/tenacity/__init__.py:376\u001b[0m, in \u001b[0;36mBaseRetrying.iter\u001b[0;34m(self, retry_state)\u001b[0m\n\u001b[1;32m    374\u001b[0m result \u001b[38;5;241m=\u001b[39m \u001b[38;5;28;01mNone\u001b[39;00m\n\u001b[1;32m    375\u001b[0m \u001b[38;5;28;01mfor\u001b[39;00m action \u001b[38;5;129;01min\u001b[39;00m \u001b[38;5;28mself\u001b[39m\u001b[38;5;241m.\u001b[39miter_state\u001b[38;5;241m.\u001b[39mactions:\n\u001b[0;32m--> 376\u001b[0m     result \u001b[38;5;241m=\u001b[39m \u001b[43maction\u001b[49m\u001b[43m(\u001b[49m\u001b[43mretry_state\u001b[49m\u001b[43m)\u001b[49m\n\u001b[1;32m    377\u001b[0m \u001b[38;5;28;01mreturn\u001b[39;00m result\n",
      "File \u001b[0;32m~/personal-projects/esti-blog/.venv/lib/python3.11/site-packages/tenacity/__init__.py:398\u001b[0m, in \u001b[0;36mBaseRetrying._post_retry_check_actions.<locals>.<lambda>\u001b[0;34m(rs)\u001b[0m\n\u001b[1;32m    396\u001b[0m \u001b[38;5;28;01mdef\u001b[39;00m \u001b[38;5;21m_post_retry_check_actions\u001b[39m(\u001b[38;5;28mself\u001b[39m, retry_state: \u001b[38;5;124m\"\u001b[39m\u001b[38;5;124mRetryCallState\u001b[39m\u001b[38;5;124m\"\u001b[39m) \u001b[38;5;241m-\u001b[39m\u001b[38;5;241m>\u001b[39m \u001b[38;5;28;01mNone\u001b[39;00m:\n\u001b[1;32m    397\u001b[0m     \u001b[38;5;28;01mif\u001b[39;00m \u001b[38;5;129;01mnot\u001b[39;00m (\u001b[38;5;28mself\u001b[39m\u001b[38;5;241m.\u001b[39miter_state\u001b[38;5;241m.\u001b[39mis_explicit_retry \u001b[38;5;129;01mor\u001b[39;00m \u001b[38;5;28mself\u001b[39m\u001b[38;5;241m.\u001b[39miter_state\u001b[38;5;241m.\u001b[39mretry_run_result):\n\u001b[0;32m--> 398\u001b[0m         \u001b[38;5;28mself\u001b[39m\u001b[38;5;241m.\u001b[39m_add_action_func(\u001b[38;5;28;01mlambda\u001b[39;00m rs: \u001b[43mrs\u001b[49m\u001b[38;5;241;43m.\u001b[39;49m\u001b[43moutcome\u001b[49m\u001b[38;5;241;43m.\u001b[39;49m\u001b[43mresult\u001b[49m\u001b[43m(\u001b[49m\u001b[43m)\u001b[49m)\n\u001b[1;32m    399\u001b[0m         \u001b[38;5;28;01mreturn\u001b[39;00m\n\u001b[1;32m    401\u001b[0m     \u001b[38;5;28;01mif\u001b[39;00m \u001b[38;5;28mself\u001b[39m\u001b[38;5;241m.\u001b[39mafter \u001b[38;5;129;01mis\u001b[39;00m \u001b[38;5;129;01mnot\u001b[39;00m \u001b[38;5;28;01mNone\u001b[39;00m:\n",
      "File \u001b[0;32m~/.pyenv/versions/3.11.4/lib/python3.11/concurrent/futures/_base.py:449\u001b[0m, in \u001b[0;36mFuture.result\u001b[0;34m(self, timeout)\u001b[0m\n\u001b[1;32m    447\u001b[0m     \u001b[38;5;28;01mraise\u001b[39;00m CancelledError()\n\u001b[1;32m    448\u001b[0m \u001b[38;5;28;01melif\u001b[39;00m \u001b[38;5;28mself\u001b[39m\u001b[38;5;241m.\u001b[39m_state \u001b[38;5;241m==\u001b[39m FINISHED:\n\u001b[0;32m--> 449\u001b[0m     \u001b[38;5;28;01mreturn\u001b[39;00m \u001b[38;5;28;43mself\u001b[39;49m\u001b[38;5;241;43m.\u001b[39;49m\u001b[43m__get_result\u001b[49m\u001b[43m(\u001b[49m\u001b[43m)\u001b[49m\n\u001b[1;32m    451\u001b[0m \u001b[38;5;28mself\u001b[39m\u001b[38;5;241m.\u001b[39m_condition\u001b[38;5;241m.\u001b[39mwait(timeout)\n\u001b[1;32m    453\u001b[0m \u001b[38;5;28;01mif\u001b[39;00m \u001b[38;5;28mself\u001b[39m\u001b[38;5;241m.\u001b[39m_state \u001b[38;5;129;01min\u001b[39;00m [CANCELLED, CANCELLED_AND_NOTIFIED]:\n",
      "File \u001b[0;32m~/.pyenv/versions/3.11.4/lib/python3.11/concurrent/futures/_base.py:401\u001b[0m, in \u001b[0;36mFuture.__get_result\u001b[0;34m(self)\u001b[0m\n\u001b[1;32m    399\u001b[0m \u001b[38;5;28;01mif\u001b[39;00m \u001b[38;5;28mself\u001b[39m\u001b[38;5;241m.\u001b[39m_exception:\n\u001b[1;32m    400\u001b[0m     \u001b[38;5;28;01mtry\u001b[39;00m:\n\u001b[0;32m--> 401\u001b[0m         \u001b[38;5;28;01mraise\u001b[39;00m \u001b[38;5;28mself\u001b[39m\u001b[38;5;241m.\u001b[39m_exception\n\u001b[1;32m    402\u001b[0m     \u001b[38;5;28;01mfinally\u001b[39;00m:\n\u001b[1;32m    403\u001b[0m         \u001b[38;5;66;03m# Break a reference cycle with the exception in self._exception\u001b[39;00m\n\u001b[1;32m    404\u001b[0m         \u001b[38;5;28mself\u001b[39m \u001b[38;5;241m=\u001b[39m \u001b[38;5;28;01mNone\u001b[39;00m\n",
      "File \u001b[0;32m~/personal-projects/esti-blog/.venv/lib/python3.11/site-packages/tenacity/__init__.py:478\u001b[0m, in \u001b[0;36mRetrying.__call__\u001b[0;34m(self, fn, *args, **kwargs)\u001b[0m\n\u001b[1;32m    476\u001b[0m \u001b[38;5;28;01mif\u001b[39;00m \u001b[38;5;28misinstance\u001b[39m(do, DoAttempt):\n\u001b[1;32m    477\u001b[0m     \u001b[38;5;28;01mtry\u001b[39;00m:\n\u001b[0;32m--> 478\u001b[0m         result \u001b[38;5;241m=\u001b[39m \u001b[43mfn\u001b[49m\u001b[43m(\u001b[49m\u001b[38;5;241;43m*\u001b[39;49m\u001b[43margs\u001b[49m\u001b[43m,\u001b[49m\u001b[43m \u001b[49m\u001b[38;5;241;43m*\u001b[39;49m\u001b[38;5;241;43m*\u001b[39;49m\u001b[43mkwargs\u001b[49m\u001b[43m)\u001b[49m\n\u001b[1;32m    479\u001b[0m     \u001b[38;5;28;01mexcept\u001b[39;00m \u001b[38;5;167;01mBaseException\u001b[39;00m:  \u001b[38;5;66;03m# noqa: B902\u001b[39;00m\n\u001b[1;32m    480\u001b[0m         retry_state\u001b[38;5;241m.\u001b[39mset_exception(sys\u001b[38;5;241m.\u001b[39mexc_info())  \u001b[38;5;66;03m# type: ignore[arg-type]\u001b[39;00m\n",
      "Cell \u001b[0;32mIn[77], line 15\u001b[0m, in \u001b[0;36mprocess_batch\u001b[0;34m(entries)\u001b[0m\n\u001b[1;32m      7\u001b[0m \u001b[38;5;129m@retry\u001b[39m(\n\u001b[1;32m      8\u001b[0m     reraise\u001b[38;5;241m=\u001b[39m\u001b[38;5;28;01mTrue\u001b[39;00m,\n\u001b[1;32m      9\u001b[0m     stop\u001b[38;5;241m=\u001b[39mstop_after_attempt(\u001b[38;5;241m5\u001b[39m),  \u001b[38;5;66;03m# Retry up to 5 times\u001b[39;00m\n\u001b[0;32m   (...)\u001b[0m\n\u001b[1;32m     12\u001b[0m )\n\u001b[1;32m     13\u001b[0m \u001b[38;5;28;01mdef\u001b[39;00m \u001b[38;5;21mprocess_batch\u001b[39m(entries):\n\u001b[1;32m     14\u001b[0m \u001b[38;5;250m    \u001b[39m\u001b[38;5;124;03m\"\"\"Process a batch of entries with retry logic in case of rate limits.\"\"\"\u001b[39;00m\n\u001b[0;32m---> 15\u001b[0m     \u001b[38;5;28;01mreturn\u001b[39;00m \u001b[43mlisting_extractor\u001b[49m\u001b[38;5;241;43m.\u001b[39;49m\u001b[43mbatch\u001b[49m\u001b[43m(\u001b[49m\u001b[43mentries\u001b[49m\u001b[43m,\u001b[49m\u001b[43m \u001b[49m\u001b[43mconfig\u001b[49m\u001b[38;5;241;43m=\u001b[39;49m\u001b[43m{\u001b[49m\u001b[38;5;124;43m\"\u001b[39;49m\u001b[38;5;124;43mmax_concurrency\u001b[39;49m\u001b[38;5;124;43m\"\u001b[39;49m\u001b[43m:\u001b[49m\u001b[43m \u001b[49m\u001b[38;5;241;43m8\u001b[39;49m\u001b[43m}\u001b[49m\u001b[43m)\u001b[49m\n",
      "File \u001b[0;32m~/personal-projects/esti-blog/.venv/lib/python3.11/site-packages/langchain_core/runnables/base.py:3023\u001b[0m, in \u001b[0;36mRunnableSequence.batch\u001b[0;34m(self, inputs, config, return_exceptions, **kwargs)\u001b[0m\n\u001b[1;32m   3021\u001b[0m     \u001b[38;5;28;01melse\u001b[39;00m:\n\u001b[1;32m   3022\u001b[0m         \u001b[38;5;28;01mfor\u001b[39;00m i, step \u001b[38;5;129;01min\u001b[39;00m \u001b[38;5;28menumerate\u001b[39m(\u001b[38;5;28mself\u001b[39m\u001b[38;5;241m.\u001b[39msteps):\n\u001b[0;32m-> 3023\u001b[0m             inputs \u001b[38;5;241m=\u001b[39m \u001b[43mstep\u001b[49m\u001b[38;5;241;43m.\u001b[39;49m\u001b[43mbatch\u001b[49m\u001b[43m(\u001b[49m\n\u001b[1;32m   3024\u001b[0m \u001b[43m                \u001b[49m\u001b[43minputs\u001b[49m\u001b[43m,\u001b[49m\n\u001b[1;32m   3025\u001b[0m \u001b[43m                \u001b[49m\u001b[43m[\u001b[49m\n\u001b[1;32m   3026\u001b[0m \u001b[43m                    \u001b[49m\u001b[38;5;66;43;03m# each step a child run of the corresponding root run\u001b[39;49;00m\n\u001b[1;32m   3027\u001b[0m \u001b[43m                    \u001b[49m\u001b[43mpatch_config\u001b[49m\u001b[43m(\u001b[49m\n\u001b[1;32m   3028\u001b[0m \u001b[43m                        \u001b[49m\u001b[43mconfig\u001b[49m\u001b[43m,\u001b[49m\u001b[43m \u001b[49m\u001b[43mcallbacks\u001b[49m\u001b[38;5;241;43m=\u001b[39;49m\u001b[43mrm\u001b[49m\u001b[38;5;241;43m.\u001b[39;49m\u001b[43mget_child\u001b[49m\u001b[43m(\u001b[49m\u001b[38;5;124;43mf\u001b[39;49m\u001b[38;5;124;43m\"\u001b[39;49m\u001b[38;5;124;43mseq:step:\u001b[39;49m\u001b[38;5;132;43;01m{\u001b[39;49;00m\u001b[43mi\u001b[49m\u001b[38;5;241;43m+\u001b[39;49m\u001b[38;5;241;43m1\u001b[39;49m\u001b[38;5;132;43;01m}\u001b[39;49;00m\u001b[38;5;124;43m\"\u001b[39;49m\u001b[43m)\u001b[49m\n\u001b[1;32m   3029\u001b[0m \u001b[43m                    \u001b[49m\u001b[43m)\u001b[49m\n\u001b[1;32m   3030\u001b[0m \u001b[43m                    \u001b[49m\u001b[38;5;28;43;01mfor\u001b[39;49;00m\u001b[43m \u001b[49m\u001b[43mrm\u001b[49m\u001b[43m,\u001b[49m\u001b[43m \u001b[49m\u001b[43mconfig\u001b[49m\u001b[43m \u001b[49m\u001b[38;5;129;43;01min\u001b[39;49;00m\u001b[43m \u001b[49m\u001b[38;5;28;43mzip\u001b[39;49m\u001b[43m(\u001b[49m\u001b[43mrun_managers\u001b[49m\u001b[43m,\u001b[49m\u001b[43m \u001b[49m\u001b[43mconfigs\u001b[49m\u001b[43m)\u001b[49m\n\u001b[1;32m   3031\u001b[0m \u001b[43m                \u001b[49m\u001b[43m]\u001b[49m\u001b[43m,\u001b[49m\n\u001b[1;32m   3032\u001b[0m \u001b[43m                \u001b[49m\u001b[43mreturn_exceptions\u001b[49m\u001b[38;5;241;43m=\u001b[39;49m\u001b[43mreturn_exceptions\u001b[49m\u001b[43m,\u001b[49m\n\u001b[1;32m   3033\u001b[0m \u001b[43m                \u001b[49m\u001b[38;5;241;43m*\u001b[39;49m\u001b[38;5;241;43m*\u001b[39;49m\u001b[43m(\u001b[49m\u001b[43mkwargs\u001b[49m\u001b[43m \u001b[49m\u001b[38;5;28;43;01mif\u001b[39;49;00m\u001b[43m \u001b[49m\u001b[43mi\u001b[49m\u001b[43m \u001b[49m\u001b[38;5;241;43m==\u001b[39;49m\u001b[43m \u001b[49m\u001b[38;5;241;43m0\u001b[39;49m\u001b[43m \u001b[49m\u001b[38;5;28;43;01melse\u001b[39;49;00m\u001b[43m \u001b[49m\u001b[43m{\u001b[49m\u001b[43m}\u001b[49m\u001b[43m)\u001b[49m\u001b[43m,\u001b[49m\n\u001b[1;32m   3034\u001b[0m \u001b[43m            \u001b[49m\u001b[43m)\u001b[49m\n\u001b[1;32m   3036\u001b[0m \u001b[38;5;66;03m# finish the root runs\u001b[39;00m\n\u001b[1;32m   3037\u001b[0m \u001b[38;5;28;01mexcept\u001b[39;00m \u001b[38;5;167;01mBaseException\u001b[39;00m \u001b[38;5;28;01mas\u001b[39;00m e:\n",
      "File \u001b[0;32m~/personal-projects/esti-blog/.venv/lib/python3.11/site-packages/langchain_core/runnables/base.py:5125\u001b[0m, in \u001b[0;36mRunnableBindingBase.batch\u001b[0;34m(self, inputs, config, return_exceptions, **kwargs)\u001b[0m\n\u001b[1;32m   5123\u001b[0m \u001b[38;5;28;01melse\u001b[39;00m:\n\u001b[1;32m   5124\u001b[0m     configs \u001b[38;5;241m=\u001b[39m [\u001b[38;5;28mself\u001b[39m\u001b[38;5;241m.\u001b[39m_merge_configs(config) \u001b[38;5;28;01mfor\u001b[39;00m _ \u001b[38;5;129;01min\u001b[39;00m \u001b[38;5;28mrange\u001b[39m(\u001b[38;5;28mlen\u001b[39m(inputs))]\n\u001b[0;32m-> 5125\u001b[0m \u001b[38;5;28;01mreturn\u001b[39;00m \u001b[38;5;28;43mself\u001b[39;49m\u001b[38;5;241;43m.\u001b[39;49m\u001b[43mbound\u001b[49m\u001b[38;5;241;43m.\u001b[39;49m\u001b[43mbatch\u001b[49m\u001b[43m(\u001b[49m\n\u001b[1;32m   5126\u001b[0m \u001b[43m    \u001b[49m\u001b[43minputs\u001b[49m\u001b[43m,\u001b[49m\n\u001b[1;32m   5127\u001b[0m \u001b[43m    \u001b[49m\u001b[43mconfigs\u001b[49m\u001b[43m,\u001b[49m\n\u001b[1;32m   5128\u001b[0m \u001b[43m    \u001b[49m\u001b[43mreturn_exceptions\u001b[49m\u001b[38;5;241;43m=\u001b[39;49m\u001b[43mreturn_exceptions\u001b[49m\u001b[43m,\u001b[49m\n\u001b[1;32m   5129\u001b[0m \u001b[43m    \u001b[49m\u001b[38;5;241;43m*\u001b[39;49m\u001b[38;5;241;43m*\u001b[39;49m\u001b[43m{\u001b[49m\u001b[38;5;241;43m*\u001b[39;49m\u001b[38;5;241;43m*\u001b[39;49m\u001b[38;5;28;43mself\u001b[39;49m\u001b[38;5;241;43m.\u001b[39;49m\u001b[43mkwargs\u001b[49m\u001b[43m,\u001b[49m\u001b[43m \u001b[49m\u001b[38;5;241;43m*\u001b[39;49m\u001b[38;5;241;43m*\u001b[39;49m\u001b[43mkwargs\u001b[49m\u001b[43m}\u001b[49m\u001b[43m,\u001b[49m\n\u001b[1;32m   5130\u001b[0m \u001b[43m\u001b[49m\u001b[43m)\u001b[49m\n",
      "File \u001b[0;32m~/personal-projects/esti-blog/.venv/lib/python3.11/site-packages/langchain_core/runnables/base.py:648\u001b[0m, in \u001b[0;36mRunnable.batch\u001b[0;34m(self, inputs, config, return_exceptions, **kwargs)\u001b[0m\n\u001b[1;32m    645\u001b[0m     \u001b[38;5;28;01mreturn\u001b[39;00m cast(List[Output], [invoke(inputs[\u001b[38;5;241m0\u001b[39m], configs[\u001b[38;5;241m0\u001b[39m])])\n\u001b[1;32m    647\u001b[0m \u001b[38;5;28;01mwith\u001b[39;00m get_executor_for_config(configs[\u001b[38;5;241m0\u001b[39m]) \u001b[38;5;28;01mas\u001b[39;00m executor:\n\u001b[0;32m--> 648\u001b[0m     \u001b[38;5;28;01mreturn\u001b[39;00m cast(List[Output], \u001b[38;5;28mlist\u001b[39m(executor\u001b[38;5;241m.\u001b[39mmap(invoke, inputs, configs)))\n",
      "File \u001b[0;32m~/.pyenv/versions/3.11.4/lib/python3.11/concurrent/futures/_base.py:619\u001b[0m, in \u001b[0;36mExecutor.map.<locals>.result_iterator\u001b[0;34m()\u001b[0m\n\u001b[1;32m    616\u001b[0m \u001b[38;5;28;01mwhile\u001b[39;00m fs:\n\u001b[1;32m    617\u001b[0m     \u001b[38;5;66;03m# Careful not to keep a reference to the popped future\u001b[39;00m\n\u001b[1;32m    618\u001b[0m     \u001b[38;5;28;01mif\u001b[39;00m timeout \u001b[38;5;129;01mis\u001b[39;00m \u001b[38;5;28;01mNone\u001b[39;00m:\n\u001b[0;32m--> 619\u001b[0m         \u001b[38;5;28;01myield\u001b[39;00m \u001b[43m_result_or_cancel\u001b[49m\u001b[43m(\u001b[49m\u001b[43mfs\u001b[49m\u001b[38;5;241;43m.\u001b[39;49m\u001b[43mpop\u001b[49m\u001b[43m(\u001b[49m\u001b[43m)\u001b[49m\u001b[43m)\u001b[49m\n\u001b[1;32m    620\u001b[0m     \u001b[38;5;28;01melse\u001b[39;00m:\n\u001b[1;32m    621\u001b[0m         \u001b[38;5;28;01myield\u001b[39;00m _result_or_cancel(fs\u001b[38;5;241m.\u001b[39mpop(), end_time \u001b[38;5;241m-\u001b[39m time\u001b[38;5;241m.\u001b[39mmonotonic())\n",
      "File \u001b[0;32m~/.pyenv/versions/3.11.4/lib/python3.11/concurrent/futures/_base.py:317\u001b[0m, in \u001b[0;36m_result_or_cancel\u001b[0;34m(***failed resolving arguments***)\u001b[0m\n\u001b[1;32m    315\u001b[0m \u001b[38;5;28;01mtry\u001b[39;00m:\n\u001b[1;32m    316\u001b[0m     \u001b[38;5;28;01mtry\u001b[39;00m:\n\u001b[0;32m--> 317\u001b[0m         \u001b[38;5;28;01mreturn\u001b[39;00m \u001b[43mfut\u001b[49m\u001b[38;5;241;43m.\u001b[39;49m\u001b[43mresult\u001b[49m\u001b[43m(\u001b[49m\u001b[43mtimeout\u001b[49m\u001b[43m)\u001b[49m\n\u001b[1;32m    318\u001b[0m     \u001b[38;5;28;01mfinally\u001b[39;00m:\n\u001b[1;32m    319\u001b[0m         fut\u001b[38;5;241m.\u001b[39mcancel()\n",
      "File \u001b[0;32m~/.pyenv/versions/3.11.4/lib/python3.11/concurrent/futures/_base.py:451\u001b[0m, in \u001b[0;36mFuture.result\u001b[0;34m(self, timeout)\u001b[0m\n\u001b[1;32m    448\u001b[0m \u001b[38;5;28;01melif\u001b[39;00m \u001b[38;5;28mself\u001b[39m\u001b[38;5;241m.\u001b[39m_state \u001b[38;5;241m==\u001b[39m FINISHED:\n\u001b[1;32m    449\u001b[0m     \u001b[38;5;28;01mreturn\u001b[39;00m \u001b[38;5;28mself\u001b[39m\u001b[38;5;241m.\u001b[39m__get_result()\n\u001b[0;32m--> 451\u001b[0m \u001b[38;5;28;43mself\u001b[39;49m\u001b[38;5;241;43m.\u001b[39;49m\u001b[43m_condition\u001b[49m\u001b[38;5;241;43m.\u001b[39;49m\u001b[43mwait\u001b[49m\u001b[43m(\u001b[49m\u001b[43mtimeout\u001b[49m\u001b[43m)\u001b[49m\n\u001b[1;32m    453\u001b[0m \u001b[38;5;28;01mif\u001b[39;00m \u001b[38;5;28mself\u001b[39m\u001b[38;5;241m.\u001b[39m_state \u001b[38;5;129;01min\u001b[39;00m [CANCELLED, CANCELLED_AND_NOTIFIED]:\n\u001b[1;32m    454\u001b[0m     \u001b[38;5;28;01mraise\u001b[39;00m CancelledError()\n",
      "File \u001b[0;32m~/.pyenv/versions/3.11.4/lib/python3.11/threading.py:320\u001b[0m, in \u001b[0;36mCondition.wait\u001b[0;34m(self, timeout)\u001b[0m\n\u001b[1;32m    318\u001b[0m \u001b[38;5;28;01mtry\u001b[39;00m:    \u001b[38;5;66;03m# restore state no matter what (e.g., KeyboardInterrupt)\u001b[39;00m\n\u001b[1;32m    319\u001b[0m     \u001b[38;5;28;01mif\u001b[39;00m timeout \u001b[38;5;129;01mis\u001b[39;00m \u001b[38;5;28;01mNone\u001b[39;00m:\n\u001b[0;32m--> 320\u001b[0m         \u001b[43mwaiter\u001b[49m\u001b[38;5;241;43m.\u001b[39;49m\u001b[43macquire\u001b[49m\u001b[43m(\u001b[49m\u001b[43m)\u001b[49m\n\u001b[1;32m    321\u001b[0m         gotit \u001b[38;5;241m=\u001b[39m \u001b[38;5;28;01mTrue\u001b[39;00m\n\u001b[1;32m    322\u001b[0m     \u001b[38;5;28;01melse\u001b[39;00m:\n",
      "\u001b[0;31mKeyboardInterrupt\u001b[0m: "
     ]
    }
   ],
   "source": [
    "\"\"\" import time\n",
    "import tqdm\n",
    "from tenacity import retry, stop_after_attempt, wait_exponential, retry_if_exception_type\n",
    "import openai\n",
    "\n",
    "# Retry decorator with exponential backoff for the batch method\n",
    "@retry(\n",
    "    reraise=True,\n",
    "    stop=stop_after_attempt(5),  # Retry up to 5 times\n",
    "    wait=wait_exponential(multiplier=1, min=2, max=60),  # Exponential backoff strategy\n",
    "    retry=retry_if_exception_type(openai.RateLimitError)\n",
    ")\n",
    "def process_batch(entries):\n",
    "    return listing_extractor.batch(entries, config={\"max_concurrency\": 8})  # Adjust concurrency based on your needs\n",
    "\n",
    "# Break the entries into smaller chunks to handle them in batches\n",
    "def chunked(entries, batch_size):\n",
    "    for i in range(0, len(entries), batch_size):\n",
    "        yield entries[i:i + batch_size]\n",
    "\n",
    "apartments = []\n",
    "batch_size = 100  # Adjust batch size based on the API's limits and your use case\n",
    "\n",
    "# Iterate over the unique_entries in batches\n",
    "for entry_batch in tqdm.tqdm(chunked(unique_entries, batch_size), total=len(unique_entries)//batch_size):\n",
    "    try:\n",
    "        # Process each batch with retry logic\n",
    "        results = process_batch(entry_batch)\n",
    "        apartments.extend(results)\n",
    "    except openai.RateLimitError as e:\n",
    "        # Log the error and wait for the recommended time\n",
    "        wait_time = 2  # Adjust the wait time based on the error message\n",
    "        print(f\"Rate limit reached. Retrying in {wait_time} seconds...\")\n",
    "        time.sleep(wait_time)\n",
    "    except Exception as e:\n",
    "        print(f\"Error processing batch: {e}\")\n",
    "        continue\n",
    " \"\"\""
   ]
  },
  {
   "cell_type": "code",
   "execution_count": 78,
   "metadata": {},
   "outputs": [
    {
     "name": "stderr",
     "output_type": "stream",
     "text": [
      " 20%|█▉        | 420/2133 [40:22<2:20:34,  4.92s/it]"
     ]
    },
    {
     "name": "stdout",
     "output_type": "stream",
     "text": [
      "Error processing entry: 1 validation error for ApartmentListing\n",
      "price\n",
      "  field required (type=value_error.missing)\n"
     ]
    },
    {
     "name": "stderr",
     "output_type": "stream",
     "text": [
      " 22%|██▏       | 479/2133 [46:06<2:38:39,  5.76s/it]"
     ]
    },
    {
     "name": "stdout",
     "output_type": "stream",
     "text": [
      "Error processing entry: 1 validation error for ApartmentListing\n",
      "price\n",
      "  none is not an allowed value (type=type_error.none.not_allowed)\n"
     ]
    },
    {
     "name": "stderr",
     "output_type": "stream",
     "text": [
      " 41%|████▏     | 885/2133 [1:26:48<1:52:31,  5.41s/it]"
     ]
    },
    {
     "name": "stdout",
     "output_type": "stream",
     "text": [
      "Error processing entry: 1 validation error for ApartmentListing\n",
      "price\n",
      "  field required (type=value_error.missing)\n"
     ]
    },
    {
     "name": "stderr",
     "output_type": "stream",
     "text": [
      " 49%|████▉     | 1041/2133 [1:42:17<1:34:25,  5.19s/it]"
     ]
    },
    {
     "name": "stdout",
     "output_type": "stream",
     "text": [
      "Error processing entry: 1 validation error for ApartmentListing\n",
      "price\n",
      "  field required (type=value_error.missing)\n"
     ]
    },
    {
     "name": "stderr",
     "output_type": "stream",
     "text": [
      " 51%|█████▏    | 1096/2133 [1:47:40<1:45:32,  6.11s/it]"
     ]
    },
    {
     "name": "stdout",
     "output_type": "stream",
     "text": [
      "Error processing entry: 1 validation error for ApartmentListing\n",
      "price\n",
      "  field required (type=value_error.missing)\n"
     ]
    },
    {
     "name": "stderr",
     "output_type": "stream",
     "text": [
      " 55%|█████▍    | 1168/2133 [1:54:48<1:29:07,  5.54s/it]"
     ]
    },
    {
     "name": "stdout",
     "output_type": "stream",
     "text": [
      "Error processing entry: 1 validation error for ApartmentListing\n",
      "price\n",
      "  field required (type=value_error.missing)\n"
     ]
    },
    {
     "name": "stderr",
     "output_type": "stream",
     "text": [
      " 63%|██████▎   | 1337/2133 [2:11:24<1:16:01,  5.73s/it]"
     ]
    },
    {
     "name": "stdout",
     "output_type": "stream",
     "text": [
      "Error processing entry: 1 validation error for ApartmentListing\n",
      "area\n",
      "  field required (type=value_error.missing)\n"
     ]
    },
    {
     "name": "stderr",
     "output_type": "stream",
     "text": [
      " 85%|████████▍ | 1806/2133 [2:58:45<42:28,  7.79s/it]  "
     ]
    },
    {
     "name": "stdout",
     "output_type": "stream",
     "text": [
      "Error processing entry: 2 validation errors for ApartmentListing\n",
      "price\n",
      "  field required (type=value_error.missing)\n",
      "area\n",
      "  field required (type=value_error.missing)\n"
     ]
    },
    {
     "name": "stderr",
     "output_type": "stream",
     "text": [
      " 90%|█████████ | 1921/2133 [3:10:24<21:03,  5.96s/it]  "
     ]
    },
    {
     "name": "stdout",
     "output_type": "stream",
     "text": [
      "Error processing entry: 1 validation error for ApartmentListing\n",
      "price\n",
      "  field required (type=value_error.missing)\n"
     ]
    },
    {
     "name": "stderr",
     "output_type": "stream",
     "text": [
      " 97%|█████████▋| 2076/2133 [3:25:28<05:15,  5.54s/it]"
     ]
    },
    {
     "name": "stdout",
     "output_type": "stream",
     "text": [
      "Error processing entry: 1 validation error for ApartmentListing\n",
      "price\n",
      "  field required (type=value_error.missing)\n"
     ]
    },
    {
     "name": "stderr",
     "output_type": "stream",
     "text": [
      "100%|██████████| 2133/2133 [3:31:22<00:00,  5.95s/it]\n"
     ]
    }
   ],
   "source": [
    "import time\n",
    "import tqdm\n",
    "import openai\n",
    "from tenacity import retry, stop_after_attempt, wait_exponential, retry_if_exception_type\n",
    "\n",
    "# Retry decorator with exponential backoff for rate limiting\n",
    "@retry(\n",
    "    reraise=True,\n",
    "    stop=stop_after_attempt(5),  # Stop after 5 attempts\n",
    "    wait=wait_exponential(multiplier=1, min=2, max=60),  # Exponential backoff strategy\n",
    "    retry=retry_if_exception_type(openai.RateLimitError)\n",
    ")\n",
    "def process_entry(entry):\n",
    "    return listing_extractor.invoke({\"listing_text\": entry})\n",
    "\n",
    "apartments = []\n",
    "for entry in tqdm.tqdm(unique_entries):\n",
    "    try:\n",
    "        apartment = process_entry(entry)\n",
    "        apartments.append(apartment)\n",
    "        if len(apartments) % 100 == 0:\n",
    "            df = pd.DataFrame([ap.dict() for ap in apartments])\n",
    "            df.to_csv('data/apartments_large.csv', index=False)\n",
    "            \n",
    "    except openai.RateLimitError as e:\n",
    "        # If we hit a rate limit error, we can log it and wait for the suggested time\n",
    "        wait_time = 2  # Adjust this based on your error message, e.g., 2 seconds in this case\n",
    "        print(f\"Rate limit reached. Retrying in {wait_time} seconds...\")\n",
    "        time.sleep(wait_time)\n",
    "    except Exception as e:\n",
    "        # Handle other exceptions\n",
    "        print(f\"Error processing entry: {e}\")\n",
    "        continue"
   ]
  },
  {
   "cell_type": "code",
   "execution_count": 79,
   "metadata": {},
   "outputs": [
    {
     "data": {
      "text/plain": [
       "2123"
      ]
     },
     "execution_count": 79,
     "metadata": {},
     "output_type": "execute_result"
    }
   ],
   "source": [
    "len(apartments)"
   ]
  },
  {
   "cell_type": "code",
   "execution_count": 80,
   "metadata": {},
   "outputs": [
    {
     "data": {
      "text/html": [
       "<div>\n",
       "<style scoped>\n",
       "    .dataframe tbody tr th:only-of-type {\n",
       "        vertical-align: middle;\n",
       "    }\n",
       "\n",
       "    .dataframe tbody tr th {\n",
       "        vertical-align: top;\n",
       "    }\n",
       "\n",
       "    .dataframe thead th {\n",
       "        text-align: right;\n",
       "    }\n",
       "</style>\n",
       "<table border=\"1\" class=\"dataframe\">\n",
       "  <thead>\n",
       "    <tr style=\"text-align: right;\">\n",
       "      <th></th>\n",
       "      <th>location</th>\n",
       "      <th>property_type</th>\n",
       "      <th>price</th>\n",
       "      <th>area</th>\n",
       "      <th>rooms</th>\n",
       "      <th>condition</th>\n",
       "      <th>year_of_construction</th>\n",
       "      <th>comfort</th>\n",
       "      <th>floor</th>\n",
       "      <th>building_levels</th>\n",
       "      <th>...</th>\n",
       "      <th>price_range_bottom</th>\n",
       "      <th>price_range_top</th>\n",
       "      <th>area_range</th>\n",
       "      <th>area_range_bottom</th>\n",
       "      <th>area_range_top</th>\n",
       "      <th>developer</th>\n",
       "      <th>nearby_universities</th>\n",
       "      <th>nearby_schools</th>\n",
       "      <th>public_transport_nearby</th>\n",
       "      <th>historical_note</th>\n",
       "    </tr>\n",
       "  </thead>\n",
       "  <tbody>\n",
       "    <tr>\n",
       "      <th>0</th>\n",
       "      <td>Budapest XIX. kerület, Báthory utca</td>\n",
       "      <td>Eladó tégla lakás</td>\n",
       "      <td>79600000.0</td>\n",
       "      <td>73.0</td>\n",
       "      <td>3.0</td>\n",
       "      <td>újszerű</td>\n",
       "      <td>2019.0</td>\n",
       "      <td>duplakomfortos</td>\n",
       "      <td>0.0</td>\n",
       "      <td>2.0</td>\n",
       "      <td>...</td>\n",
       "      <td>NaN</td>\n",
       "      <td>NaN</td>\n",
       "      <td>None</td>\n",
       "      <td>NaN</td>\n",
       "      <td>NaN</td>\n",
       "      <td>None</td>\n",
       "      <td>None</td>\n",
       "      <td>None</td>\n",
       "      <td>42-es villamos, M3-as metró</td>\n",
       "      <td>None</td>\n",
       "    </tr>\n",
       "    <tr>\n",
       "      <th>1</th>\n",
       "      <td>Budapest IV. kerület, Újpest</td>\n",
       "      <td>Eladó tégla lakás</td>\n",
       "      <td>78230000.0</td>\n",
       "      <td>68.0</td>\n",
       "      <td>3.0</td>\n",
       "      <td>új építésű</td>\n",
       "      <td>2023.0</td>\n",
       "      <td>összkomfortos</td>\n",
       "      <td>2.0</td>\n",
       "      <td>3.0</td>\n",
       "      <td>...</td>\n",
       "      <td>NaN</td>\n",
       "      <td>NaN</td>\n",
       "      <td>None</td>\n",
       "      <td>NaN</td>\n",
       "      <td>NaN</td>\n",
       "      <td>None</td>\n",
       "      <td>None</td>\n",
       "      <td>None</td>\n",
       "      <td>kiváló tömegközlekedési lehetőség</td>\n",
       "      <td>None</td>\n",
       "    </tr>\n",
       "    <tr>\n",
       "      <th>2</th>\n",
       "      <td>Budapest XIV. kerület, Dorozsmai utca</td>\n",
       "      <td>Eladó tégla lakás</td>\n",
       "      <td>139800000.0</td>\n",
       "      <td>90.0</td>\n",
       "      <td>4.0</td>\n",
       "      <td>újszerű</td>\n",
       "      <td>2018.0</td>\n",
       "      <td>duplakomfortos</td>\n",
       "      <td>5.0</td>\n",
       "      <td>6.0</td>\n",
       "      <td>...</td>\n",
       "      <td>NaN</td>\n",
       "      <td>NaN</td>\n",
       "      <td>None</td>\n",
       "      <td>NaN</td>\n",
       "      <td>NaN</td>\n",
       "      <td>None</td>\n",
       "      <td>None</td>\n",
       "      <td>None</td>\n",
       "      <td>tömegközlekedés (villamos, troli, busz) 5-10 p...</td>\n",
       "      <td>None</td>\n",
       "    </tr>\n",
       "    <tr>\n",
       "      <th>3</th>\n",
       "      <td>Budapest V. kerület, Zrínyi utca</td>\n",
       "      <td>Eladó tégla lakás</td>\n",
       "      <td>2360000.0</td>\n",
       "      <td>1.0</td>\n",
       "      <td>2.0</td>\n",
       "      <td>felújított</td>\n",
       "      <td>NaN</td>\n",
       "      <td>None</td>\n",
       "      <td>2.0</td>\n",
       "      <td>NaN</td>\n",
       "      <td>...</td>\n",
       "      <td>NaN</td>\n",
       "      <td>NaN</td>\n",
       "      <td>None</td>\n",
       "      <td>NaN</td>\n",
       "      <td>NaN</td>\n",
       "      <td>None</td>\n",
       "      <td>None</td>\n",
       "      <td>None</td>\n",
       "      <td>None</td>\n",
       "      <td>None</td>\n",
       "    </tr>\n",
       "    <tr>\n",
       "      <th>4</th>\n",
       "      <td>Budapest V. kerület, Károly körút 26.</td>\n",
       "      <td>Eladó tégla lakás</td>\n",
       "      <td>109000000.0</td>\n",
       "      <td>69.0</td>\n",
       "      <td>2.0</td>\n",
       "      <td>jó állapotú</td>\n",
       "      <td>NaN</td>\n",
       "      <td>összkomfortos</td>\n",
       "      <td>4.0</td>\n",
       "      <td>4.0</td>\n",
       "      <td>...</td>\n",
       "      <td>NaN</td>\n",
       "      <td>NaN</td>\n",
       "      <td>None</td>\n",
       "      <td>NaN</td>\n",
       "      <td>NaN</td>\n",
       "      <td>None</td>\n",
       "      <td>None</td>\n",
       "      <td>None</td>\n",
       "      <td>M1, M2, M3 metróvonalak, 72-es trolibusz, szám...</td>\n",
       "      <td>None</td>\n",
       "    </tr>\n",
       "  </tbody>\n",
       "</table>\n",
       "<p>5 rows × 41 columns</p>\n",
       "</div>"
      ],
      "text/plain": [
       "                                location      property_type        price  \\\n",
       "0    Budapest XIX. kerület, Báthory utca  Eladó tégla lakás   79600000.0   \n",
       "1           Budapest IV. kerület, Újpest  Eladó tégla lakás   78230000.0   \n",
       "2  Budapest XIV. kerület, Dorozsmai utca  Eladó tégla lakás  139800000.0   \n",
       "3       Budapest V. kerület, Zrínyi utca  Eladó tégla lakás    2360000.0   \n",
       "4  Budapest V. kerület, Károly körút 26.  Eladó tégla lakás  109000000.0   \n",
       "\n",
       "   area  rooms    condition  year_of_construction         comfort  floor  \\\n",
       "0  73.0    3.0      újszerű                2019.0  duplakomfortos    0.0   \n",
       "1  68.0    3.0   új építésű                2023.0   összkomfortos    2.0   \n",
       "2  90.0    4.0      újszerű                2018.0  duplakomfortos    5.0   \n",
       "3   1.0    2.0   felújított                   NaN            None    2.0   \n",
       "4  69.0    2.0  jó állapotú                   NaN   összkomfortos    4.0   \n",
       "\n",
       "   building_levels  ... price_range_bottom price_range_top area_range  \\\n",
       "0              2.0  ...                NaN             NaN       None   \n",
       "1              3.0  ...                NaN             NaN       None   \n",
       "2              6.0  ...                NaN             NaN       None   \n",
       "3              NaN  ...                NaN             NaN       None   \n",
       "4              4.0  ...                NaN             NaN       None   \n",
       "\n",
       "  area_range_bottom area_range_top  developer nearby_universities  \\\n",
       "0               NaN            NaN       None                None   \n",
       "1               NaN            NaN       None                None   \n",
       "2               NaN            NaN       None                None   \n",
       "3               NaN            NaN       None                None   \n",
       "4               NaN            NaN       None                None   \n",
       "\n",
       "  nearby_schools                            public_transport_nearby  \\\n",
       "0           None                        42-es villamos, M3-as metró   \n",
       "1           None                  kiváló tömegközlekedési lehetőség   \n",
       "2           None  tömegközlekedés (villamos, troli, busz) 5-10 p...   \n",
       "3           None                                               None   \n",
       "4           None  M1, M2, M3 metróvonalak, 72-es trolibusz, szám...   \n",
       "\n",
       "  historical_note  \n",
       "0            None  \n",
       "1            None  \n",
       "2            None  \n",
       "3            None  \n",
       "4            None  \n",
       "\n",
       "[5 rows x 41 columns]"
      ]
     },
     "execution_count": 80,
     "metadata": {},
     "output_type": "execute_result"
    }
   ],
   "source": [
    "# export the extracted data to a CSV file\n",
    "df = pd.DataFrame([ap.dict() for ap in apartments])\n",
    "df.head()"
   ]
  },
  {
   "cell_type": "code",
   "execution_count": 81,
   "metadata": {},
   "outputs": [],
   "source": [
    "df.to_csv('data/apartments_large.csv', index=False)"
   ]
  },
  {
   "cell_type": "code",
   "execution_count": 82,
   "metadata": {},
   "outputs": [
    {
     "name": "stdout",
     "output_type": "stream",
     "text": [
      "Szia Apu\n"
     ]
    }
   ],
   "source": [
    "print(\"Szia Apu\")"
   ]
  }
 ],
 "metadata": {
  "kernelspec": {
   "display_name": ".venv",
   "language": "python",
   "name": "python3"
  },
  "language_info": {
   "codemirror_mode": {
    "name": "ipython",
    "version": 3
   },
   "file_extension": ".py",
   "mimetype": "text/x-python",
   "name": "python",
   "nbconvert_exporter": "python",
   "pygments_lexer": "ipython3",
   "version": "3.12.4"
  }
 },
 "nbformat": 4,
 "nbformat_minor": 2
}
